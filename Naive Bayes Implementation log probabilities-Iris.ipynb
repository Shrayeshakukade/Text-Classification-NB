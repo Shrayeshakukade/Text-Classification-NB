{
 "cells": [
  {
   "cell_type": "markdown",
   "metadata": {},
   "source": [
    "### Logarithmic probabilities are used to avoid getting multiplication of actual probabilities to zero."
   ]
  },
  {
   "cell_type": "code",
   "execution_count": 1,
   "metadata": {},
   "outputs": [],
   "source": [
    "import numpy as np"
   ]
  },
  {
   "cell_type": "code",
   "execution_count": 2,
   "metadata": {},
   "outputs": [],
   "source": [
    "def fit(X_train, Y_train):\n",
    "    result = {}\n",
    "    class_values = set(Y_train)# level 1\n",
    "    for current_class in class_values:\n",
    "        result[current_class] = {}#level 2\n",
    "        result[\"total_data\"] = len(Y_train)\n",
    "        current_class_rows = (Y_train == current_class)\n",
    "        X_train_current = X_train[current_class_rows]\n",
    "        Y_train_current = Y_train[current_class_rows]\n",
    "        n_features = X_train.shape[1]\n",
    "        result[current_class][\"total_count\"] = len(Y_train_current)\n",
    "        for j in range(1, n_features + 1):\n",
    "            #j_1 = j - 1\n",
    "            result[current_class][j] = {}# level 3\n",
    "            all_possible_values = set(X_train[:, j - 1])\n",
    "            for current_value in all_possible_values:\n",
    "                result[current_class][j][current_value] = (X_train_current[:, j - 1] == current_value).sum()\n",
    "    return result"
   ]
  },
  {
   "cell_type": "code",
   "execution_count": 44,
   "metadata": {},
   "outputs": [],
   "source": [
    "def probability(dictionary, x, current_class):# log probability funtion\n",
    "    #p(y=current_class)\n",
    "    output = np.log(dictionary[current_class][\"total_count\"]) - np.log(dictionary[\"total_data\"])\n",
    "    n_features = len(dictionary[current_class].keys()) - 1\n",
    "    # -1 for extra feature total_count\n",
    "    for j in range(1, n_features + 1):\n",
    "        xj = x[j - 1]\n",
    "        count_current_class_with_value_xj = dictionary[current_class][j][xj] + 1\n",
    "        # +1 for laplace correction\n",
    "        count_current_class = dictionary[current_class][\"total_count\"] + len(dictionary[current_class][j].keys())\n",
    "        current_xj_prob = np.log(count_current_class_with_value_xj) - np.log(count_current_class)\n",
    "        output = output + current_xj_prob\n",
    "    return output"
   ]
  },
  {
   "cell_type": "code",
   "execution_count": 45,
   "metadata": {},
   "outputs": [],
   "source": [
    "def predictSinglePoint(dictionary, x):\n",
    "    classes = dictionary.keys()\n",
    "    best_p = -1000\n",
    "    best_class = -1\n",
    "    first_run = True\n",
    "    for current_class in classes:\n",
    "        if (current_class == \"total_data\"):\n",
    "            continue\n",
    "        p_current_class = probability(dictionary, x, current_class)#probability of current class\n",
    "        if (first_run or p_current_class > best_p):\n",
    "            best_p = p_current_class\n",
    "            best_class = current_class\n",
    "            \n",
    "        first_run = False\n",
    "    return best_class"
   ]
  },
  {
   "cell_type": "code",
   "execution_count": 46,
   "metadata": {},
   "outputs": [],
   "source": [
    "def predict(dictionary, X_test):\n",
    "    y_pred = []\n",
    "    for x in X_test:\n",
    "        x_class = predictSinglePoint(dictionary, x)\n",
    "        y_pred.append(x_class)\n",
    "    return y_pred"
   ]
  },
  {
   "cell_type": "code",
   "execution_count": 47,
   "metadata": {},
   "outputs": [],
   "source": [
    "def make_labelled(column):#lebels contineous data\n",
    "    second_limit = column.mean()\n",
    "    first_limit = second_limit / 2\n",
    "    third_limit = second_limit * 3 / 2\n",
    "    \n",
    "    for i in range(len(column)):\n",
    "        if(column[i] < first_limit):#1st label is 0\n",
    "            column[i] = 0\n",
    "        elif(column[i] < second_limit):#2nd label is 1\n",
    "            column[i] = 1\n",
    "        elif(column[i] < third_limit):#3rd label is 2\n",
    "            column[i] = 2\n",
    "        else:\n",
    "            column[i] = 3\n",
    "    return column"
   ]
  },
  {
   "cell_type": "code",
   "execution_count": 48,
   "metadata": {},
   "outputs": [],
   "source": [
    "from sklearn import datasets\n",
    "iris = datasets.load_iris()\n",
    "X = iris.data\n",
    "Y = iris.target"
   ]
  },
  {
   "cell_type": "code",
   "execution_count": 49,
   "metadata": {},
   "outputs": [],
   "source": [
    "for i in range(X.shape[-1]):\n",
    "    X[:, i] = make_labelled(X[:, i])"
   ]
  },
  {
   "cell_type": "code",
   "execution_count": 50,
   "metadata": {},
   "outputs": [
    {
     "data": {
      "text/plain": [
       "array([[1., 2., 0., 0.],\n",
       "       [1., 1., 0., 0.],\n",
       "       [1., 2., 0., 0.],\n",
       "       [1., 2., 0., 0.],\n",
       "       [1., 2., 0., 0.],\n",
       "       [1., 2., 0., 0.],\n",
       "       [1., 2., 0., 0.],\n",
       "       [1., 2., 0., 0.],\n",
       "       [1., 1., 0., 0.],\n",
       "       [1., 2., 0., 0.],\n",
       "       [1., 2., 0., 0.],\n",
       "       [1., 2., 0., 0.],\n",
       "       [1., 1., 0., 0.],\n",
       "       [1., 1., 0., 0.],\n",
       "       [1., 2., 0., 0.],\n",
       "       [1., 2., 0., 0.],\n",
       "       [1., 2., 0., 0.],\n",
       "       [1., 2., 0., 0.],\n",
       "       [1., 2., 0., 0.],\n",
       "       [1., 2., 0., 0.],\n",
       "       [1., 2., 0., 0.],\n",
       "       [1., 2., 0., 0.],\n",
       "       [1., 2., 0., 0.],\n",
       "       [1., 2., 0., 0.],\n",
       "       [1., 2., 1., 0.],\n",
       "       [1., 1., 0., 0.],\n",
       "       [1., 2., 0., 0.],\n",
       "       [1., 2., 0., 0.],\n",
       "       [1., 2., 0., 0.],\n",
       "       [1., 2., 0., 0.],\n",
       "       [1., 2., 0., 0.],\n",
       "       [1., 2., 0., 0.],\n",
       "       [1., 2., 0., 0.],\n",
       "       [1., 2., 0., 0.],\n",
       "       [1., 2., 0., 0.],\n",
       "       [1., 2., 0., 0.],\n",
       "       [1., 2., 0., 0.],\n",
       "       [1., 2., 0., 0.],\n",
       "       [1., 1., 0., 0.],\n",
       "       [1., 2., 0., 0.],\n",
       "       [1., 2., 0., 0.],\n",
       "       [1., 1., 0., 0.],\n",
       "       [1., 2., 0., 0.],\n",
       "       [1., 2., 0., 1.],\n",
       "       [1., 2., 1., 0.],\n",
       "       [1., 1., 0., 0.],\n",
       "       [1., 2., 0., 0.],\n",
       "       [1., 2., 0., 0.],\n",
       "       [1., 2., 0., 0.],\n",
       "       [1., 2., 0., 0.],\n",
       "       [2., 2., 2., 2.],\n",
       "       [2., 2., 2., 2.],\n",
       "       [2., 2., 2., 2.],\n",
       "       [1., 1., 2., 2.],\n",
       "       [2., 1., 2., 2.],\n",
       "       [1., 1., 2., 2.],\n",
       "       [2., 2., 2., 2.],\n",
       "       [1., 1., 1., 1.],\n",
       "       [2., 1., 2., 2.],\n",
       "       [1., 1., 2., 2.],\n",
       "       [1., 1., 1., 1.],\n",
       "       [2., 1., 2., 2.],\n",
       "       [2., 1., 2., 1.],\n",
       "       [2., 1., 2., 2.],\n",
       "       [1., 1., 1., 2.],\n",
       "       [2., 2., 2., 2.],\n",
       "       [1., 1., 2., 2.],\n",
       "       [1., 1., 2., 1.],\n",
       "       [2., 1., 2., 2.],\n",
       "       [1., 1., 2., 1.],\n",
       "       [2., 2., 2., 3.],\n",
       "       [2., 1., 2., 2.],\n",
       "       [2., 1., 2., 2.],\n",
       "       [2., 1., 2., 2.],\n",
       "       [2., 1., 2., 2.],\n",
       "       [2., 1., 2., 2.],\n",
       "       [2., 1., 2., 2.],\n",
       "       [2., 1., 2., 2.],\n",
       "       [2., 1., 2., 2.],\n",
       "       [1., 1., 1., 1.],\n",
       "       [1., 1., 2., 1.],\n",
       "       [1., 1., 1., 1.],\n",
       "       [1., 1., 2., 2.],\n",
       "       [2., 1., 2., 2.],\n",
       "       [1., 1., 2., 2.],\n",
       "       [2., 2., 2., 2.],\n",
       "       [2., 2., 2., 2.],\n",
       "       [2., 1., 2., 2.],\n",
       "       [1., 1., 2., 2.],\n",
       "       [1., 1., 2., 2.],\n",
       "       [1., 1., 2., 2.],\n",
       "       [2., 1., 2., 2.],\n",
       "       [1., 1., 2., 2.],\n",
       "       [1., 1., 1., 1.],\n",
       "       [1., 1., 2., 2.],\n",
       "       [1., 1., 2., 2.],\n",
       "       [1., 1., 2., 2.],\n",
       "       [2., 1., 2., 2.],\n",
       "       [1., 1., 1., 1.],\n",
       "       [1., 1., 2., 2.],\n",
       "       [2., 2., 3., 3.],\n",
       "       [1., 1., 2., 3.],\n",
       "       [2., 1., 3., 3.],\n",
       "       [2., 1., 2., 3.],\n",
       "       [2., 1., 3., 3.],\n",
       "       [2., 1., 3., 3.],\n",
       "       [1., 1., 2., 2.],\n",
       "       [2., 1., 3., 3.],\n",
       "       [2., 1., 3., 3.],\n",
       "       [2., 2., 3., 3.],\n",
       "       [2., 2., 2., 3.],\n",
       "       [2., 1., 2., 3.],\n",
       "       [2., 1., 2., 3.],\n",
       "       [1., 1., 2., 3.],\n",
       "       [1., 1., 2., 3.],\n",
       "       [2., 2., 2., 3.],\n",
       "       [2., 1., 2., 3.],\n",
       "       [2., 2., 3., 3.],\n",
       "       [2., 1., 3., 3.],\n",
       "       [2., 1., 2., 2.],\n",
       "       [2., 2., 3., 3.],\n",
       "       [1., 1., 2., 3.],\n",
       "       [2., 1., 3., 3.],\n",
       "       [2., 1., 2., 3.],\n",
       "       [2., 2., 3., 3.],\n",
       "       [2., 2., 3., 3.],\n",
       "       [2., 1., 2., 3.],\n",
       "       [2., 1., 2., 3.],\n",
       "       [2., 1., 2., 3.],\n",
       "       [2., 1., 3., 2.],\n",
       "       [2., 1., 3., 3.],\n",
       "       [2., 2., 3., 3.],\n",
       "       [2., 1., 2., 3.],\n",
       "       [2., 1., 2., 2.],\n",
       "       [2., 1., 2., 2.],\n",
       "       [2., 1., 3., 3.],\n",
       "       [2., 2., 2., 3.],\n",
       "       [2., 2., 2., 3.],\n",
       "       [2., 1., 2., 3.],\n",
       "       [2., 2., 2., 3.],\n",
       "       [2., 2., 2., 3.],\n",
       "       [2., 2., 2., 3.],\n",
       "       [1., 1., 2., 3.],\n",
       "       [2., 2., 3., 3.],\n",
       "       [2., 2., 3., 3.],\n",
       "       [2., 1., 2., 3.],\n",
       "       [2., 1., 2., 3.],\n",
       "       [2., 1., 2., 3.],\n",
       "       [2., 2., 2., 3.],\n",
       "       [2., 1., 2., 3.]])"
      ]
     },
     "execution_count": 50,
     "metadata": {},
     "output_type": "execute_result"
    }
   ],
   "source": [
    "X"
   ]
  },
  {
   "cell_type": "code",
   "execution_count": 51,
   "metadata": {},
   "outputs": [
    {
     "data": {
      "text/plain": [
       "(38, 4)"
      ]
     },
     "execution_count": 51,
     "metadata": {},
     "output_type": "execute_result"
    }
   ],
   "source": [
    "from sklearn.model_selection import train_test_split\n",
    "X_train, X_test, Y_train, Y_test = train_test_split(X, Y, test_size = 0.25, random_state = 0)\n",
    "X_test.shape"
   ]
  },
  {
   "cell_type": "code",
   "execution_count": 52,
   "metadata": {},
   "outputs": [],
   "source": [
    "dictionary = fit(X_train, Y_train)"
   ]
  },
  {
   "cell_type": "code",
   "execution_count": 53,
   "metadata": {},
   "outputs": [],
   "source": [
    "Y_pred = predict(dictionary, X_test)"
   ]
  },
  {
   "cell_type": "code",
   "execution_count": 57,
   "metadata": {},
   "outputs": [
    {
     "name": "stdout",
     "output_type": "stream",
     "text": [
      "              precision    recall  f1-score   support\n",
      "\n",
      "           0       1.00      1.00      1.00        13\n",
      "           1       0.94      1.00      0.97        16\n",
      "           2       1.00      0.89      0.94         9\n",
      "\n",
      "    accuracy                           0.97        38\n",
      "   macro avg       0.98      0.96      0.97        38\n",
      "weighted avg       0.98      0.97      0.97        38\n",
      "\n",
      "[[13  0  0]\n",
      " [ 0 16  0]\n",
      " [ 0  1  8]]\n"
     ]
    }
   ],
   "source": [
    "from sklearn.metrics import classification_report,confusion_matrix\n",
    "print(classification_report(Y_test, Y_pred))\n",
    "print((confusion_matrix(Y_test, Y_pred)))"
   ]
  },
  {
   "cell_type": "code",
   "execution_count": 60,
   "metadata": {},
   "outputs": [
    {
     "name": "stdout",
     "output_type": "stream",
     "text": [
      "              precision    recall  f1-score   support\n",
      "\n",
      "           0       1.00      0.85      0.92        13\n",
      "           1       0.76      1.00      0.86        16\n",
      "           2       1.00      0.67      0.80         9\n",
      "\n",
      "    accuracy                           0.87        38\n",
      "   macro avg       0.92      0.84      0.86        38\n",
      "weighted avg       0.90      0.87      0.87        38\n",
      "\n",
      "[[11  2  0]\n",
      " [ 0 16  0]\n",
      " [ 0  3  6]]\n"
     ]
    }
   ],
   "source": [
    "from sklearn.naive_bayes import GaussianNB\n",
    "clf = GaussianNB()\n",
    "clf.fit(X_train, Y_train)\n",
    "Y_pred = clf.predict(X_test)\n",
    "print(classification_report(Y_test, Y_pred))\n",
    "print(confusion_matrix(Y_test, Y_pred))"
   ]
  },
  {
   "cell_type": "code",
   "execution_count": 61,
   "metadata": {},
   "outputs": [
    {
     "name": "stdout",
     "output_type": "stream",
     "text": [
      "              precision    recall  f1-score   support\n",
      "\n",
      "           0       1.00      0.85      0.92        13\n",
      "           1       0.00      0.00      0.00        16\n",
      "           2       0.36      1.00      0.53         9\n",
      "\n",
      "    accuracy                           0.53        38\n",
      "   macro avg       0.45      0.62      0.48        38\n",
      "weighted avg       0.43      0.53      0.44        38\n",
      "\n",
      "[[11  2  0]\n",
      " [ 0  0 16]\n",
      " [ 0  0  9]]\n"
     ]
    }
   ],
   "source": [
    "from sklearn.naive_bayes import MultinomialNB\n",
    "clf = MultinomialNB()\n",
    "clf.fit(X_train, Y_train)\n",
    "Y_pred = clf.predict(X_test)\n",
    "print(classification_report(Y_test, Y_pred))\n",
    "print(confusion_matrix(Y_test, Y_pred))"
   ]
  },
  {
   "cell_type": "code",
   "execution_count": null,
   "metadata": {},
   "outputs": [],
   "source": []
  },
  {
   "cell_type": "code",
   "execution_count": null,
   "metadata": {},
   "outputs": [],
   "source": []
  }
 ],
 "metadata": {
  "kernelspec": {
   "display_name": "Python 3",
   "language": "python",
   "name": "python3"
  },
  "language_info": {
   "codemirror_mode": {
    "name": "ipython",
    "version": 3
   },
   "file_extension": ".py",
   "mimetype": "text/x-python",
   "name": "python",
   "nbconvert_exporter": "python",
   "pygments_lexer": "ipython3",
   "version": "3.8.3"
  }
 },
 "nbformat": 4,
 "nbformat_minor": 4
}
